{
 "cells": [
  {
   "cell_type": "code",
   "execution_count": null,
   "id": "6768b30f",
   "metadata": {},
   "outputs": [],
   "source": [
    "from tkinter import *\n",
    "import requests\n",
    "\n",
    "def get_joke():\n",
    "    response = requests.get(\"http://official-joke-api.appspot.com/random_joke\")\n",
    "    response.raise_for_status()\n",
    "    data = response.json()\n",
    "    setup = data[\"setup\"]\n",
    "    punchline = data[\"punchline\"]\n",
    "    quote = f\"{setup}\\n\\n{punchline}\"\n",
    "    canvas.itemconfig(quote_text, text=quote)\n",
    "\n",
    "window = Tk()\n",
    "window.title(\"Random Jokes..\")\n",
    "window.config(padx=50, pady=50)\n",
    "\n",
    "canvas = Canvas(width=400, height=414)\n",
    "canvas.grid(row=0, column=0)\n",
    "\n",
    "quote_text = canvas.create_text(\n",
    "    200, 207, text=\"\", width=250, font=(\"Arial\", 12, \"bold\"), fill=\"black\"\n",
    ")\n",
    "\n",
    "joke_button = Button(\n",
    "    text=\"Get Random Joke\", highlightthickness=1, command=get_joke\n",
    ")\n",
    "joke_button.grid(row=1, column=0)\n",
    "\n",
    "window.mainloop()\n"
   ]
  },
  {
   "cell_type": "code",
   "execution_count": null,
   "id": "6a96abd0",
   "metadata": {},
   "outputs": [],
   "source": []
  }
 ],
 "metadata": {
  "kernelspec": {
   "display_name": "Python 3 (ipykernel)",
   "language": "python",
   "name": "python3"
  },
  "language_info": {
   "codemirror_mode": {
    "name": "ipython",
    "version": 3
   },
   "file_extension": ".py",
   "mimetype": "text/x-python",
   "name": "python",
   "nbconvert_exporter": "python",
   "pygments_lexer": "ipython3",
   "version": "3.9.13"
  }
 },
 "nbformat": 4,
 "nbformat_minor": 5
}
